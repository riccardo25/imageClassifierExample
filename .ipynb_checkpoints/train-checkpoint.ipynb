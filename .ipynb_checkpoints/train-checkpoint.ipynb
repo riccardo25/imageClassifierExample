{
 "cells": [
  {
   "cell_type": "code",
   "execution_count": 2,
   "metadata": {},
   "outputs": [
    {
     "ename": "ModuleNotFoundError",
     "evalue": "No module named 'cv2'",
     "output_type": "error",
     "traceback": [
      "\u001b[1;31m---------------------------------------------------------------------------\u001b[0m",
      "\u001b[1;31mModuleNotFoundError\u001b[0m                       Traceback (most recent call last)",
      "\u001b[1;32m<ipython-input-2-b5aa270e8aeb>\u001b[0m in \u001b[0;36m<module>\u001b[1;34m()\u001b[0m\n\u001b[1;32m----> 1\u001b[1;33m \u001b[1;32mimport\u001b[0m \u001b[0mDataset\u001b[0m \u001b[1;31m#in folder -> to\u001b[0m\u001b[1;33m\u001b[0m\u001b[0m\n\u001b[0m\u001b[0;32m      2\u001b[0m \u001b[1;32mimport\u001b[0m \u001b[0mtensorflow\u001b[0m \u001b[1;32mas\u001b[0m \u001b[0mtf\u001b[0m\u001b[1;33m\u001b[0m\u001b[0m\n\u001b[0;32m      3\u001b[0m \u001b[1;32mimport\u001b[0m \u001b[0mtime\u001b[0m\u001b[1;33m\u001b[0m\u001b[0m\n\u001b[0;32m      4\u001b[0m \u001b[1;32mfrom\u001b[0m \u001b[0mdatetime\u001b[0m \u001b[1;32mimport\u001b[0m \u001b[0mtimedelta\u001b[0m\u001b[1;33m\u001b[0m\u001b[0m\n\u001b[0;32m      5\u001b[0m \u001b[1;32mimport\u001b[0m \u001b[0mmath\u001b[0m\u001b[1;33m\u001b[0m\u001b[0m\n",
      "\u001b[1;32m~\\Desktop\\python\\imageClassifierExample\\Dataset.py\u001b[0m in \u001b[0;36m<module>\u001b[1;34m()\u001b[0m\n\u001b[1;32m----> 1\u001b[1;33m \u001b[1;32mimport\u001b[0m \u001b[0mcv2\u001b[0m\u001b[1;33m\u001b[0m\u001b[0m\n\u001b[0m\u001b[0;32m      2\u001b[0m \u001b[1;32mimport\u001b[0m \u001b[0mos\u001b[0m\u001b[1;33m\u001b[0m\u001b[0m\n\u001b[0;32m      3\u001b[0m \u001b[1;32mimport\u001b[0m \u001b[0mglob\u001b[0m\u001b[1;33m\u001b[0m\u001b[0m\n\u001b[0;32m      4\u001b[0m \u001b[1;32mfrom\u001b[0m \u001b[0msklearn\u001b[0m\u001b[1;33m.\u001b[0m\u001b[0mutils\u001b[0m \u001b[1;32mimport\u001b[0m \u001b[0mshuffle\u001b[0m\u001b[1;33m\u001b[0m\u001b[0m\n\u001b[0;32m      5\u001b[0m \u001b[1;32mimport\u001b[0m \u001b[0mnumpy\u001b[0m \u001b[1;32mas\u001b[0m \u001b[0mnp\u001b[0m\u001b[1;33m\u001b[0m\u001b[0m\n",
      "\u001b[1;31mModuleNotFoundError\u001b[0m: No module named 'cv2'"
     ]
    }
   ],
   "source": [
    "import Dataset #in folder -> to \n",
    "import tensorflow as tf\n",
    "import time\n",
    "from datetime import timedelta\n",
    "import math\n",
    "import random\n",
    "import numpy as np\n",
    "import cv2\n",
    "from sklearn.utils import shuffle\n",
    "\n",
    "#boh initializations, I don't know\n",
    "from numpy.random import seed\n",
    "seed(1)\n",
    "from tensorflow import set_random_seed\n",
    "set_random_seed(2)\n",
    "\n"
   ]
  },
  {
   "cell_type": "code",
   "execution_count": 2,
   "metadata": {
    "collapsed": true
   },
   "outputs": [],
   "source": [
    "batch_size = 30\n",
    "\n",
    "#Prepare input data\n",
    "classes = ['dogs','cats']\n",
    "num_classes = len(classes)\n",
    "# 20% of the data will automatically be used for validation\n",
    "validation_size = 0.2\n",
    "img_size = 100\n",
    "num_channels = 3\n",
    "train_path='training_data'"
   ]
  },
  {
   "cell_type": "code",
   "execution_count": 3,
   "metadata": {
    "collapsed": true
   },
   "outputs": [],
   "source": [
    "images = []\n",
    "labels = []\n",
    "\n",
    "images_val = []\n",
    "labels_val = []\n",
    "\n",
    "\n",
    "#cats\n",
    "\n",
    "for i in range(0, 450):\n",
    "    image = cv2.imread(\"img/cats/cat.\"+str(i)+\".jpg\", 1)\n",
    "\n",
    "    #resizing (stretching)\n",
    "    image = cv2.resize(image, (img_size,img_size), fx=0, fy=0, interpolation=cv2.INTER_LINEAR) \n",
    "    #cv2.imshow(\"gatto\", image)\n",
    "    #cv2.waitKey(0)\n",
    "    #cv2.destroyAllWindows()\n",
    "    image = image.astype(np.float32)\n",
    "    image = np.multiply(image, 1.0 / 255.0)\n",
    "    images.append(image)\n",
    "    label = np.zeros(num_classes)\n",
    "    label[1] = 1.0\n",
    "    labels.append(label)\n",
    "    \n",
    "for i in range(450, 500):\n",
    "    image = cv2.imread(\"img/cats/cat.\"+str(i)+\".jpg\", 1)\n",
    "    #resizing (stretching)\n",
    "    image = cv2.resize(image, (img_size,img_size), fx=0, fy=0, interpolation=cv2.INTER_LINEAR) \n",
    "    image = image.astype(np.float32)\n",
    "    image = np.multiply(image, 1.0 / 255.0)\n",
    "    images_val.append(image)\n",
    "    label = np.zeros(num_classes)\n",
    "    label[1] = 1.0\n",
    "    labels_val.append(label)\n",
    "    \n",
    "    \n",
    "    \n",
    "for i in range(0, 450):\n",
    "    image = cv2.imread(\"img/dogs/dog.\"+str(i)+\".jpg\", 1)\n",
    "\n",
    "    #resizing (stretching)\n",
    "    image = cv2.resize(image, (img_size,img_size), fx=0, fy=0, interpolation=cv2.INTER_LINEAR) \n",
    "    image = image.astype(np.float32)\n",
    "    image = np.multiply(image, 1.0 / 255.0)\n",
    "    images.append(image)\n",
    "    label = np.zeros(num_classes)\n",
    "    label[0] = 1.0\n",
    "    labels.append(label)\n",
    "    \n",
    "for i in range(450, 500):\n",
    "    image = cv2.imread(\"img/dogs/dog.\"+str(i)+\".jpg\", 1)\n",
    "    #resizing (stretching)\n",
    "    image = cv2.resize(image, (img_size,img_size), fx=0, fy=0, interpolation=cv2.INTER_LINEAR) \n",
    "    image = image.astype(np.float32)\n",
    "    image = np.multiply(image, 1.0 / 255.0)\n",
    "    images_val.append(image)\n",
    "    label = np.zeros(num_classes)\n",
    "    label[0] = 1.0\n",
    "    labels_val.append(label)\n",
    "    \n",
    "images, labels = shuffle(images, labels)\n",
    "images_val, labels_val = shuffle(images_val, labels_val)\n",
    "\n",
    "    "
   ]
  },
  {
   "cell_type": "code",
   "execution_count": 4,
   "metadata": {},
   "outputs": [
    {
     "name": "stdout",
     "output_type": "stream",
     "text": [
      "WARNING:tensorflow:From <ipython-input-4-396492a58c11>:11: calling argmax (from tensorflow.python.ops.math_ops) with dimension is deprecated and will be removed in a future version.\n",
      "Instructions for updating:\n",
      "Use the `axis` argument instead\n"
     ]
    }
   ],
   "source": [
    "session = tf.Session()\n",
    "\n",
    "x = tf.placeholder(tf.float32, shape=[None, img_size, img_size, num_channels], name='x')\n",
    "\n",
    "\n",
    "\n",
    "## labels\n",
    "\n",
    "y_true = tf.placeholder(tf.float32, shape=[None, num_classes], name='y_true')\n",
    "\n",
    "y_true_cls = tf.argmax(y_true, dimension=1)"
   ]
  },
  {
   "cell_type": "code",
   "execution_count": 5,
   "metadata": {
    "collapsed": true
   },
   "outputs": [],
   "source": [
    "##Network graph params\n",
    "\n",
    "filter_size_conv1 = 3 \n",
    "\n",
    "num_filters_conv1 = 32\n",
    "\n",
    "\n",
    "\n",
    "filter_size_conv2 = 3\n",
    "\n",
    "num_filters_conv2 = 32\n",
    "\n",
    "\n",
    "\n",
    "filter_size_conv3 = 3\n",
    "\n",
    "num_filters_conv3 = 64\n",
    "\n",
    "    \n",
    "\n",
    "fc_layer_size = 128\n",
    "\n",
    "def create_weights(shape):\n",
    "    return tf.Variable(tf.truncated_normal(shape, stddev=0.05))\n",
    "\n",
    "def create_biases(size):\n",
    "    return tf.Variable(tf.constant(0.05, shape=[size]))\n",
    "\n",
    "def create_convolutional_layer(input, num_input_channels, conv_filter_size, num_filters):  \n",
    "    ## We shall define the weights that will be trained using create_weights function.\n",
    "    weights = create_weights(shape=[conv_filter_size, conv_filter_size, num_input_channels, num_filters])\n",
    "    ## We create biases using the create_biases function. These are also trained.\n",
    "    biases = create_biases(num_filters)\n",
    "    ## Creating the convolutional layer\n",
    "    layer = tf.nn.conv2d(input=input, filter=weights, strides=[1, 1, 1, 1], padding='SAME')\n",
    "    layer += biases\n",
    "    ## We shall be using max-pooling.  \n",
    "    layer = tf.nn.max_pool(value=layer,\n",
    "                            ksize=[1, 2, 2, 1],\n",
    "                            strides=[1, 2, 2, 1],\n",
    "                            padding='SAME')\n",
    "    ## Output of pooling is fed to Relu which is the activation function for us.\n",
    "    layer = tf.nn.relu(layer)\n",
    "    return layer\n",
    "\n",
    "def create_flatten_layer(layer):\n",
    "    #We know that the shape of the layer will be [batch_size img_size img_size num_channels] \n",
    "    # But let's get it from the previous layer.\n",
    "    layer_shape = layer.get_shape()\n",
    "    ## Number of features will be img_height * img_width* num_channels. But we shall calculate it in place of hard-coding it.\n",
    "    num_features = layer_shape[1:4].num_elements()\n",
    "    ## Now, we Flatten the layer so we shall have to reshape to num_features\n",
    "    layer = tf.reshape(layer, [-1, num_features])\n",
    "    return layer\n",
    "\n",
    "def create_fc_layer(input, num_inputs, num_outputs, use_relu=True):\n",
    "    #Let's define trainable weights and biases.\n",
    "    weights = create_weights(shape=[num_inputs, num_outputs])\n",
    "    biases = create_biases(num_outputs)\n",
    "    # Fully connected layer takes input x and produces wx+b.Since, these are matrices, we use matmul function in Tensorflow\n",
    "    layer = tf.matmul(input, weights) + biases\n",
    "    if use_relu:\n",
    "        layer = tf.nn.relu(layer)\n",
    "    return layer\n",
    "\n",
    "def show_progress(epoch, feed_dict_train, feed_dict_validate, val_loss):\n",
    "\n",
    "    acc = session.run(accuracy, feed_dict=feed_dict_train)\n",
    "\n",
    "    val_acc = session.run(accuracy, feed_dict=feed_dict_validate)\n",
    "\n",
    "    msg = \"Training Epoch {0} --- Training Accuracy: {1:>6.1%}, Validation Accuracy: {2:>6.1%},  Validation Loss: {3:.3f}\"\n",
    "\n",
    "    print(msg.format(epoch + 1, acc, val_acc, val_loss))"
   ]
  },
  {
   "cell_type": "code",
   "execution_count": 6,
   "metadata": {
    "collapsed": true
   },
   "outputs": [],
   "source": [
    "#layers creation\n",
    "layer_conv1 = create_convolutional_layer(input=x, num_input_channels=num_channels, conv_filter_size=filter_size_conv1, num_filters=num_filters_conv1)\n",
    "layer_conv2 = create_convolutional_layer(input=layer_conv1, num_input_channels=num_filters_conv1, conv_filter_size=filter_size_conv2, num_filters=num_filters_conv2)\n",
    "layer_conv3= create_convolutional_layer(input=layer_conv2, num_input_channels=num_filters_conv2, conv_filter_size=filter_size_conv3, num_filters=num_filters_conv3)\n",
    "layer_flat = create_flatten_layer(layer_conv3)\n",
    "layer_fc1 = create_fc_layer(input=layer_flat, num_inputs=layer_flat.get_shape()[1:4].num_elements(), num_outputs=fc_layer_size,use_relu=True)\n",
    "layer_fc2 = create_fc_layer(input=layer_fc1, num_inputs=fc_layer_size, num_outputs=num_classes, use_relu=False) \n",
    "\n",
    "#predictions\n",
    "y_pred = tf.nn.softmax(layer_fc2,name='y_pred') #standard use of softmax -> 0 - 1 probability spread to the output\n",
    "y_pred_cls = tf.argmax(y_pred, dimension=1) #return the index of the max value output\n",
    "\n",
    "#initialize variables\n",
    "session.run(tf.global_variables_initializer())"
   ]
  },
  {
   "cell_type": "code",
   "execution_count": 7,
   "metadata": {
    "collapsed": true
   },
   "outputs": [],
   "source": [
    "#set the minimization cost like cross-entropy (ok not the normal norm)\n",
    "cross_entropy = tf.nn.softmax_cross_entropy_with_logits(logits=layer_fc2, labels=y_true)\n",
    "cost = tf.reduce_mean(cross_entropy)\n",
    "optimizer = tf.train.AdamOptimizer(learning_rate=1e-4).minimize(cost)\n",
    "correct_prediction = tf.equal(y_pred_cls, y_true_cls)\n",
    "\n",
    "accuracy = tf.reduce_mean(tf.cast(correct_prediction, tf.float32))\n",
    "\n",
    "session.run(tf.global_variables_initializer()) "
   ]
  },
  {
   "cell_type": "code",
   "execution_count": 8,
   "metadata": {},
   "outputs": [
    {
     "name": "stdout",
     "output_type": "stream",
     "text": [
      "Training Epoch 1 --- Training Accuracy:  56.7%, Validation Accuracy:  50.0%,  Validation Loss: 0.710\n",
      "Training Epoch 2 --- Training Accuracy:  53.3%, Validation Accuracy:  50.0%,  Validation Loss: 0.701\n",
      "Training Epoch 3 --- Training Accuracy:  63.3%, Validation Accuracy:  49.0%,  Validation Loss: 0.695\n",
      "Training Epoch 4 --- Training Accuracy:  56.7%, Validation Accuracy:  50.0%,  Validation Loss: 0.700\n",
      "Training Epoch 5 --- Training Accuracy:  53.3%, Validation Accuracy:  52.0%,  Validation Loss: 0.693\n",
      "Training Epoch 6 --- Training Accuracy:  63.3%, Validation Accuracy:  50.0%,  Validation Loss: 0.701\n",
      "Training Epoch 7 --- Training Accuracy:  56.7%, Validation Accuracy:  50.0%,  Validation Loss: 0.700\n",
      "Training Epoch 8 --- Training Accuracy:  46.7%, Validation Accuracy:  50.0%,  Validation Loss: 0.692\n",
      "Training Epoch 9 --- Training Accuracy:  63.3%, Validation Accuracy:  50.0%,  Validation Loss: 0.702\n",
      "Training Epoch 10 --- Training Accuracy:  56.7%, Validation Accuracy:  50.0%,  Validation Loss: 0.697\n",
      "Training Epoch 11 --- Training Accuracy:  46.7%, Validation Accuracy:  49.0%,  Validation Loss: 0.692\n",
      "Training Epoch 12 --- Training Accuracy:  63.3%, Validation Accuracy:  50.0%,  Validation Loss: 0.701\n",
      "Training Epoch 13 --- Training Accuracy:  60.0%, Validation Accuracy:  50.0%,  Validation Loss: 0.692\n",
      "Training Epoch 14 --- Training Accuracy:  46.7%, Validation Accuracy:  51.0%,  Validation Loss: 0.692\n",
      "Training Epoch 15 --- Training Accuracy:  63.3%, Validation Accuracy:  50.0%,  Validation Loss: 0.697\n",
      "Training Epoch 16 --- Training Accuracy:  63.3%, Validation Accuracy:  52.0%,  Validation Loss: 0.691\n",
      "Training Epoch 17 --- Training Accuracy:  46.7%, Validation Accuracy:  50.0%,  Validation Loss: 0.689\n",
      "Training Epoch 18 --- Training Accuracy:  63.3%, Validation Accuracy:  50.0%,  Validation Loss: 0.694\n",
      "Training Epoch 19 --- Training Accuracy:  63.3%, Validation Accuracy:  51.0%,  Validation Loss: 0.689\n",
      "Training Epoch 20 --- Training Accuracy:  63.3%, Validation Accuracy:  53.0%,  Validation Loss: 0.684\n",
      "Training Epoch 21 --- Training Accuracy:  63.3%, Validation Accuracy:  50.0%,  Validation Loss: 0.694\n",
      "Training Epoch 22 --- Training Accuracy:  63.3%, Validation Accuracy:  52.0%,  Validation Loss: 0.687\n",
      "Training Epoch 23 --- Training Accuracy:  73.3%, Validation Accuracy:  53.0%,  Validation Loss: 0.678\n",
      "Training Epoch 24 --- Training Accuracy:  70.0%, Validation Accuracy:  56.0%,  Validation Loss: 0.686\n",
      "Training Epoch 25 --- Training Accuracy:  66.7%, Validation Accuracy:  53.0%,  Validation Loss: 0.686\n",
      "Training Epoch 26 --- Training Accuracy:  70.0%, Validation Accuracy:  57.0%,  Validation Loss: 0.671\n",
      "Training Epoch 27 --- Training Accuracy:  66.7%, Validation Accuracy:  58.0%,  Validation Loss: 0.678\n",
      "Training Epoch 28 --- Training Accuracy:  66.7%, Validation Accuracy:  52.0%,  Validation Loss: 0.684\n",
      "Training Epoch 29 --- Training Accuracy:  73.3%, Validation Accuracy:  63.0%,  Validation Loss: 0.664\n",
      "Training Epoch 30 --- Training Accuracy:  73.3%, Validation Accuracy:  60.0%,  Validation Loss: 0.657\n",
      "Training Epoch 31 --- Training Accuracy:  70.0%, Validation Accuracy:  54.0%,  Validation Loss: 0.661\n",
      "Training Epoch 32 --- Training Accuracy:  73.3%, Validation Accuracy:  66.0%,  Validation Loss: 0.638\n",
      "Training Epoch 33 --- Training Accuracy:  66.7%, Validation Accuracy:  68.0%,  Validation Loss: 0.640\n",
      "Training Epoch 34 --- Training Accuracy:  66.7%, Validation Accuracy:  60.0%,  Validation Loss: 0.642\n",
      "Training Epoch 35 --- Training Accuracy:  73.3%, Validation Accuracy:  71.0%,  Validation Loss: 0.606\n",
      "Training Epoch 36 --- Training Accuracy:  66.7%, Validation Accuracy:  69.0%,  Validation Loss: 0.620\n",
      "Training Epoch 37 --- Training Accuracy:  70.0%, Validation Accuracy:  61.0%,  Validation Loss: 0.623\n",
      "Training Epoch 38 --- Training Accuracy:  70.0%, Validation Accuracy:  66.0%,  Validation Loss: 0.585\n",
      "Training Epoch 39 --- Training Accuracy:  70.0%, Validation Accuracy:  71.0%,  Validation Loss: 0.602\n",
      "Training Epoch 40 --- Training Accuracy:  73.3%, Validation Accuracy:  65.0%,  Validation Loss: 0.601\n",
      "Training Epoch 41 --- Training Accuracy:  66.7%, Validation Accuracy:  72.0%,  Validation Loss: 0.567\n",
      "Training Epoch 42 --- Training Accuracy:  73.3%, Validation Accuracy:  73.0%,  Validation Loss: 0.589\n",
      "Training Epoch 43 --- Training Accuracy:  73.3%, Validation Accuracy:  66.0%,  Validation Loss: 0.587\n",
      "Training Epoch 44 --- Training Accuracy:  66.7%, Validation Accuracy:  73.0%,  Validation Loss: 0.555\n",
      "Training Epoch 45 --- Training Accuracy:  76.7%, Validation Accuracy:  73.0%,  Validation Loss: 0.581\n",
      "Training Epoch 46 --- Training Accuracy:  73.3%, Validation Accuracy:  66.0%,  Validation Loss: 0.576\n",
      "Training Epoch 47 --- Training Accuracy:  66.7%, Validation Accuracy:  76.0%,  Validation Loss: 0.543\n",
      "Training Epoch 48 --- Training Accuracy:  76.7%, Validation Accuracy:  74.0%,  Validation Loss: 0.574\n",
      "Training Epoch 49 --- Training Accuracy:  73.3%, Validation Accuracy:  66.0%,  Validation Loss: 0.572\n",
      "Training Epoch 50 --- Training Accuracy:  70.0%, Validation Accuracy:  75.0%,  Validation Loss: 0.537\n"
     ]
    }
   ],
   "source": [
    "#training\n",
    "saver = tf.train.Saver()\n",
    "\n",
    "def train(num_iteration):\n",
    "\n",
    "    for i in range(0, num_iteration):\n",
    "        \n",
    "        index = int(i % batch_size) * int(len(images)/batch_size)\n",
    "        x_batch = images[index: index+batch_size]\n",
    "        y_true_batch = labels[index: index+batch_size]\n",
    "        x_valid_batch = images_val\n",
    "        y_valid_batch = labels_val\n",
    "        #feeding\n",
    "        feed_dict_tr = {x: x_batch, y_true: y_true_batch}\n",
    "        feed_dict_val = {x: x_valid_batch, y_true: y_valid_batch}\n",
    "        #running\n",
    "        session.run(optimizer, feed_dict=feed_dict_tr)\n",
    "        \n",
    "        if i % 10 == 0: \n",
    "            val_loss = session.run(cost, feed_dict=feed_dict_val)\n",
    "            epoch = int(i / 10)    \n",
    "            show_progress(epoch, feed_dict_tr, feed_dict_val, val_loss)\n",
    "            #saver.save(session, 'dogs-cats-model') \n",
    "            \n",
    "            \n",
    "train(num_iteration=100)"
   ]
  },
  {
   "cell_type": "code",
   "execution_count": 31,
   "metadata": {},
   "outputs": [
    {
     "name": "stdout",
     "output_type": "stream",
     "text": [
      "[[ 0.6664353   0.33356467]]\n",
      "E' un cane!\n"
     ]
    }
   ],
   "source": [
    "#lets check test file\n",
    "\n",
    "y_test_images = np.zeros((1, 2)) \n",
    "\n",
    "num_channels=3\n",
    "imagesq = []\n",
    "# Reading the image using OpenCV\n",
    "image = cv2.imread(\"img/test/test.jpg\")\n",
    "# Resizing the image to our desired size and preprocessing will be done exactly as done during training\n",
    "image = cv2.resize(image, (img_size, img_size),0,0, cv2.INTER_LINEAR)\n",
    "imagesq.append(image)\n",
    "imagesq = np.array(imagesq, dtype=np.uint8)\n",
    "imagesq = imagesq.astype('float32')\n",
    "imagesq = np.multiply(imagesq, 1.0/255.0) \n",
    "#The input to the network is of shape [None image_size image_size num_channels]. Hence we reshape.\n",
    "x_batch = imagesq.reshape(1, img_size,img_size,num_channels)\n",
    "\n",
    "feed_dict_testing = {x: x_batch, y_true: y_test_images}\n",
    "\n",
    "result=session.run(y_pred, feed_dict=feed_dict_testing)\n",
    "print(result)\n",
    "\n",
    "if(result[0][0] > 0.5):\n",
    "    print(\"E' un cane!\")\n",
    "else:\n",
    "    print(\"E' un gatto!\")\n",
    "    \n",
    "\n"
   ]
  },
  {
   "cell_type": "code",
   "execution_count": 1,
   "metadata": {},
   "outputs": [
    {
     "name": "stdout",
     "output_type": "stream",
     "text": [
      "[[22. 28.]\n",
      " [49. 64.]]\n"
     ]
    }
   ],
   "source": []
  },
  {
   "cell_type": "code",
   "execution_count": null,
   "metadata": {
    "collapsed": true
   },
   "outputs": [],
   "source": []
  }
 ],
 "metadata": {
  "kernelspec": {
   "display_name": "Python 3",
   "language": "python",
   "name": "python3"
  },
  "language_info": {
   "codemirror_mode": {
    "name": "ipython",
    "version": 3
   },
   "file_extension": ".py",
   "mimetype": "text/x-python",
   "name": "python",
   "nbconvert_exporter": "python",
   "pygments_lexer": "ipython3",
   "version": "3.6.4"
  }
 },
 "nbformat": 4,
 "nbformat_minor": 2
}
